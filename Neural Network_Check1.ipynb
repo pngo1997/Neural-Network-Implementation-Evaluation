{
 "cells": [
  {
   "cell_type": "markdown",
   "id": "68bc121e-320c-44c5-bfa6-bc5a1d887b2e",
   "metadata": {},
   "source": [
    "#### Student Name: Mai Ngo\n",
    "#### Course Name and Number: DSC 578 Neural Network and Deep Learning - SEC 701\n",
    "#### Assignment 1 - Part1: Initial tests of application notebook\n",
    "#### Date: 10/8/2023"
   ]
  },
  {
   "cell_type": "code",
   "execution_count": 1,
   "id": "5a628863-7026-444b-ac72-d07c334cdbc9",
   "metadata": {},
   "outputs": [],
   "source": [
    "from ipynb.fs.defs.NN578hw3_Original_Network import Network as network\n",
    "from ipynb.fs.defs.NN578hw3_Original_Network import loadCSV\n",
    "import numpy as np"
   ]
  },
  {
   "cell_type": "code",
   "execution_count": 2,
   "id": "0dbd87e9-d854-43b7-ba43-1eaf17907e4e",
   "metadata": {},
   "outputs": [],
   "source": [
    "#Load the data (using the custom function defined in the class Notebook).\n",
    "irisData = loadCSV('iris-3.csv', 4, 3)\n",
    "irisTrain = irisData[:105]\n",
    "irisTest = irisData[105:]"
   ]
  },
  {
   "cell_type": "code",
   "execution_count": 3,
   "id": "e2bffda2-57b1-4439-b92b-48d0b3f87436",
   "metadata": {},
   "outputs": [
    {
     "name": "stdout",
     "output_type": "stream",
     "text": [
      "Epoch 0: train acc 0.3333\n",
      "Epoch 1: train acc 0.6667\n",
      "Epoch 2: train acc 0.6667\n",
      "\n",
      "****************************************************\n",
      "!! CHECK THIS: Initial activations shape -> [(4, 1)]\n",
      "****************************************************\n"
     ]
    }
   ],
   "source": [
    "# Create a network from the saved network\n",
    "net1 = network.loadNetwork(\"iris-423.dat\")\n",
    "\n",
    "# Train the network for 3 epochs, with minibatch size 8, eta=2.0 and no testset.\n",
    "net1.SGD(irisData, 3, 8, 2.5)\n",
    "print ('\\n****************************************************')\n",
    "print ('!! CHECK THIS: Initial activations shape -> {}'.format(net1.init_acts_shape))\n",
    "print ('****************************************************')"
   ]
  },
  {
   "cell_type": "code",
   "execution_count": 4,
   "id": "de8200e3-c838-4ec1-8731-d0974f4ea10c",
   "metadata": {},
   "outputs": [
    {
     "name": "stdout",
     "output_type": "stream",
     "text": [
      "Epoch 0: train acc 0.3048, valid acc 0.4000\n",
      "Epoch 1: train acc 0.6571, valid acc 0.6889\n",
      "Epoch 2: train acc 0.6571, valid acc 0.6889\n"
     ]
    }
   ],
   "source": [
    "#Re-load the saved network and run it again.  This time using the test set.\n",
    "net2 = network.loadNetwork(\"iris-423.dat\")\n",
    "net2.SGD(irisTrain, 3, 8, 2.5, irisTest)"
   ]
  }
 ],
 "metadata": {
  "kernelspec": {
   "display_name": "Python 3 (ipykernel)",
   "language": "python",
   "name": "python3"
  },
  "language_info": {
   "codemirror_mode": {
    "name": "ipython",
    "version": 3
   },
   "file_extension": ".py",
   "mimetype": "text/x-python",
   "name": "python",
   "nbconvert_exporter": "python",
   "pygments_lexer": "ipython3",
   "version": "3.9.13"
  }
 },
 "nbformat": 4,
 "nbformat_minor": 5
}
