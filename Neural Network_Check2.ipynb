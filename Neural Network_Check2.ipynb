{
 "cells": [
  {
   "cell_type": "markdown",
   "id": "8af0d2c5-5df3-41e6-9e65-25c957384b97",
   "metadata": {},
   "source": [
    "#### Student Name: Mai Ngo\n",
    "#### Course Name and Number: DSC 578 Neural Network and Deep Learning - SEC 701\n",
    "#### Assignment 1 - Part 2: Tests of  application on modified Network code\n",
    "#### Date: 10/8/2023"
   ]
  },
  {
   "cell_type": "code",
   "execution_count": 1,
   "id": "da5b696e-fa82-46a4-811a-748dd3a3e971",
   "metadata": {},
   "outputs": [],
   "source": [
    "from ipynb.fs.defs.NN578hw3_Modified_Network import Network as network\n",
    "from ipynb.fs.defs.NN578hw3_Modified_Network import loadCSV\n",
    "import numpy as np"
   ]
  },
  {
   "cell_type": "code",
   "execution_count": 2,
   "id": "847aec6b-2ebd-48b0-b1ba-a7159b0ee86d",
   "metadata": {},
   "outputs": [],
   "source": [
    "#Load the data (using the custom function defined in the class Notebook).\n",
    "irisData = loadCSV('iris-3.csv', 4, 3)\n",
    "irisTrain = irisData[:105]\n",
    "irisTest = irisData[105:]"
   ]
  },
  {
   "cell_type": "code",
   "execution_count": 3,
   "id": "cf076160-591a-4712-9882-22c07d1d85c7",
   "metadata": {},
   "outputs": [
    {
     "name": "stdout",
     "output_type": "stream",
     "text": [
      "[Epoch 0] Train: Count=  50, Accuracy=0.3333, MSE=0.3324, CE=1.9056, LL=1.0882\n",
      "[Epoch 1] Train: Count= 100, Accuracy=0.6667, MSE=0.2862, CE=1.6983, LL=0.9408\n",
      "[Epoch 2] Train: Count= 100, Accuracy=0.6667, MSE=0.2384, CE=1.4883, LL=0.7665\n",
      "\n",
      "------ Returned Results --------------\n",
      "** train: [{'Count': 50, 'Accuracy': 0.3333333333333333, 'MSE': 0.332365978591433, 'CE': 1.9055707971860074, 'LL': 1.0881690136826414}, {'Count': 100, 'Accuracy': 0.6666666666666666, 'MSE': 0.286196400664887, 'CE': 1.6983416730223357, 'LL': 0.940805422805889}, {'Count': 100, 'Accuracy': 0.6666666666666666, 'MSE': 0.2383695067896298, 'CE': 1.4882876754586214, 'LL': 0.7664723194847561}]\n",
      "** valid: []\n",
      "\n",
      "*************************************************\n",
      "Initial activations shape: [(4, 1), (2, 1), (3, 1)]\n",
      "*************************************************\n"
     ]
    }
   ],
   "source": [
    "#Create a network from the saved network\n",
    "net1 = network.loadNetwork(\"iris-423.dat\")\n",
    "\n",
    "#Train the network for 3 epochs, with minibatch size 8, eta=2.5 and no testset.\n",
    "trainRes, testRes = net1.SGD(irisData, 3, 8, 1.5)\n",
    "print ('\\n------ Returned Results --------------')\n",
    "print ('** train: {}'.format(trainRes))\n",
    "print ('** valid: {}'.format(testRes))\n",
    "print ('\\n*************************************************')\n",
    "print ('Initial activations shape: {}'.format(net1.init_acts_shape))\n",
    "print ('*************************************************')"
   ]
  },
  {
   "cell_type": "code",
   "execution_count": 4,
   "id": "fdc3cc5a-6f6b-490f-a915-a5b4a278f4fd",
   "metadata": {},
   "outputs": [
    {
     "name": "stdout",
     "output_type": "stream",
     "text": [
      "[Epoch 0] Train: Count=  36, Accuracy=0.3429, MSE=0.3339, CE=1.9118, LL=1.0294\n",
      "[Epoch 0] Valid: Count=  14, Accuracy=0.3111, MSE=0.3353, CE=1.9183, LL=1.0334\n",
      "[Epoch 1] Train: Count=  32, Accuracy=0.3048, MSE=0.3335, CE=1.9107, LL=1.0930\n",
      "[Epoch 1] Valid: Count=  18, Accuracy=0.4000, MSE=0.3294, CE=1.8922, LL=1.0802\n",
      "[Epoch 2] Train: Count=  32, Accuracy=0.3048, MSE=0.3241, CE=1.8674, LL=1.0823\n",
      "[Epoch 2] Valid: Count=  18, Accuracy=0.4000, MSE=0.3196, CE=1.8477, LL=1.0656\n",
      "[Epoch 3] Train: Count=  69, Accuracy=0.6571, MSE=0.2853, CE=1.6942, LL=0.9433\n",
      "[Epoch 3] Valid: Count=  31, Accuracy=0.6889, MSE=0.2844, CE=1.6914, LL=0.9365\n",
      "[Epoch 4] Train: Count=  69, Accuracy=0.6571, MSE=0.2576, CE=1.5756, LL=0.8389\n",
      "[Epoch 4] Valid: Count=  31, Accuracy=0.6889, MSE=0.2583, CE=1.5798, LL=0.8383\n",
      "[Epoch 5] Train: Count=  69, Accuracy=0.6571, MSE=0.2385, CE=1.4885, LL=0.7714\n",
      "[Epoch 5] Valid: Count=  31, Accuracy=0.6889, MSE=0.2404, CE=1.4982, LL=0.7751\n",
      "[Epoch 6] Train: Count=  69, Accuracy=0.6571, MSE=0.2242, CE=1.4195, LL=0.7232\n",
      "[Epoch 6] Valid: Count=  31, Accuracy=0.6889, MSE=0.2273, CE=1.4348, LL=0.7307\n",
      "[Epoch 7] Train: Count=  69, Accuracy=0.6571, MSE=0.2135, CE=1.3648, LL=0.6872\n",
      "[Epoch 7] Valid: Count=  31, Accuracy=0.6889, MSE=0.2176, CE=1.3848, LL=0.6976\n",
      "[Epoch 8] Train: Count=  69, Accuracy=0.6571, MSE=0.2055, CE=1.3209, LL=0.6594\n",
      "[Epoch 8] Valid: Count=  31, Accuracy=0.6889, MSE=0.2103, CE=1.3448, LL=0.6720\n",
      "[Epoch 9] Train: Count=  69, Accuracy=0.6571, MSE=0.1993, CE=1.2851, LL=0.6376\n",
      "[Epoch 9] Valid: Count=  31, Accuracy=0.6889, MSE=0.2048, CE=1.3122, LL=0.6518\n",
      "[Epoch 10] Train: Count=  69, Accuracy=0.6571, MSE=0.1945, CE=1.2555, LL=0.6200\n",
      "[Epoch 10] Valid: Count=  31, Accuracy=0.6889, MSE=0.2004, CE=1.2853, LL=0.6355\n",
      "[Epoch 11] Train: Count=  69, Accuracy=0.6571, MSE=0.1906, CE=1.2306, LL=0.6056\n",
      "[Epoch 11] Valid: Count=  31, Accuracy=0.6889, MSE=0.1969, CE=1.2627, LL=0.6221\n",
      "[Epoch 12] Train: Count=  69, Accuracy=0.6571, MSE=0.1875, CE=1.2094, LL=0.5937\n",
      "[Epoch 12] Valid: Count=  31, Accuracy=0.6889, MSE=0.1941, CE=1.2434, LL=0.6110\n",
      "[Epoch 13] Train: Count=  69, Accuracy=0.6571, MSE=0.1848, CE=1.1911, LL=0.5836\n",
      "[Epoch 13] Valid: Count=  31, Accuracy=0.6889, MSE=0.1918, CE=1.2266, LL=0.6016\n",
      "[Epoch 14] Train: Count=  69, Accuracy=0.6571, MSE=0.1826, CE=1.1749, LL=0.5751\n",
      "[Epoch 14] Valid: Count=  31, Accuracy=0.6889, MSE=0.1898, CE=1.2118, LL=0.5935\n",
      "[Epoch 15] Train: Count=  69, Accuracy=0.6571, MSE=0.1807, CE=1.1603, LL=0.5675\n",
      "[Epoch 15] Valid: Count=  31, Accuracy=0.6889, MSE=0.1880, CE=1.1984, LL=0.5864\n",
      "[Epoch 16] Train: Count=  69, Accuracy=0.6571, MSE=0.1789, CE=1.1468, LL=0.5607\n",
      "[Epoch 16] Valid: Count=  31, Accuracy=0.6889, MSE=0.1864, CE=1.1858, LL=0.5799\n",
      "[Epoch 17] Train: Count=  69, Accuracy=0.6571, MSE=0.1772, CE=1.1332, LL=0.5541\n",
      "[Epoch 17] Valid: Count=  31, Accuracy=0.6889, MSE=0.1848, CE=1.1733, LL=0.5736\n",
      "[Epoch 18] Train: Count=  69, Accuracy=0.6571, MSE=0.1753, CE=1.1183, LL=0.5469\n",
      "[Epoch 18] Valid: Count=  31, Accuracy=0.6889, MSE=0.1832, CE=1.1598, LL=0.5667\n",
      "[Epoch 19] Train: Count=  69, Accuracy=0.6571, MSE=0.1731, CE=1.1008, LL=0.5385\n",
      "[Epoch 19] Valid: Count=  31, Accuracy=0.6889, MSE=0.1813, CE=1.1444, LL=0.5589\n",
      "[Epoch 20] Train: Count=  71, Accuracy=0.6762, MSE=0.1711, CE=1.0838, LL=0.5308\n",
      "[Epoch 20] Valid: Count=  31, Accuracy=0.6889, MSE=0.1796, CE=1.1296, LL=0.5516\n",
      "[Epoch 21] Train: Count=  71, Accuracy=0.6762, MSE=0.1695, CE=1.0710, LL=0.5261\n",
      "[Epoch 21] Valid: Count=  31, Accuracy=0.6889, MSE=0.1781, CE=1.1177, LL=0.5471\n",
      "[Epoch 22] Train: Count=  70, Accuracy=0.6667, MSE=0.1681, CE=1.0614, LL=0.5242\n",
      "[Epoch 22] Valid: Count=  31, Accuracy=0.6889, MSE=0.1765, CE=1.1079, LL=0.5451\n",
      "[Epoch 23] Train: Count=  71, Accuracy=0.6762, MSE=0.1667, CE=1.0534, LL=0.5241\n",
      "[Epoch 23] Valid: Count=  33, Accuracy=0.7333, MSE=0.1749, CE=1.0990, LL=0.5448\n",
      "[Epoch 24] Train: Count=  77, Accuracy=0.7333, MSE=0.1653, CE=1.0461, LL=0.5252\n",
      "[Epoch 24] Valid: Count=  35, Accuracy=0.7778, MSE=0.1732, CE=1.0906, LL=0.5456\n",
      "[Epoch 25] Train: Count=  80, Accuracy=0.7619, MSE=0.1637, CE=1.0393, LL=0.5264\n",
      "[Epoch 25] Valid: Count=  38, Accuracy=0.8444, MSE=0.1713, CE=1.0827, LL=0.5468\n",
      "[Epoch 26] Train: Count=  81, Accuracy=0.7714, MSE=0.1619, CE=1.0314, LL=0.5240\n",
      "[Epoch 26] Valid: Count=  39, Accuracy=0.8667, MSE=0.1691, CE=1.0735, LL=0.5440\n",
      "[Epoch 27] Train: Count=  83, Accuracy=0.7905, MSE=0.1596, CE=1.0207, LL=0.5138\n",
      "[Epoch 27] Valid: Count=  39, Accuracy=0.8667, MSE=0.1663, CE=1.0598, LL=0.5320\n",
      "[Epoch 28] Train: Count=  82, Accuracy=0.7810, MSE=0.1575, CE=1.0092, LL=0.4989\n",
      "[Epoch 28] Valid: Count=  39, Accuracy=0.8667, MSE=0.1631, CE=1.0436, LL=0.5141\n",
      "[Epoch 29] Train: Count=  80, Accuracy=0.7619, MSE=0.1562, CE=1.0003, LL=0.4815\n",
      "[Epoch 29] Valid: Count=  39, Accuracy=0.8667, MSE=0.1605, CE=1.0286, LL=0.4929\n",
      "[Epoch 30] Train: Count=  79, Accuracy=0.7524, MSE=0.1584, CE=1.0031, LL=0.4593\n",
      "[Epoch 30] Valid: Count=  35, Accuracy=0.7778, MSE=0.1611, CE=1.0233, LL=0.4655\n",
      "[Epoch 31] Train: Count=  71, Accuracy=0.6762, MSE=0.1683, CE=1.0360, LL=0.4361\n",
      "[Epoch 31] Valid: Count=  31, Accuracy=0.6889, MSE=0.1697, CE=1.0482, LL=0.4366\n",
      "\n",
      "------ Returned Results --------------\n",
      "** train: {'Count': 71, 'Accuracy': 0.6761904761904762, 'MSE': 0.16829894128940628, 'CE': 1.0360011908391777, 'LL': 0.43611300713029644}\n",
      "** valid: {'Count': 31, 'Accuracy': 0.6888888888888889, 'MSE': 0.16969323713497336, 'CE': 1.0481849598672324, 'LL': 0.43657255725788024}\n",
      "\n",
      "*************************************************\n",
      "Initial activations shape: [(4, 1), (2, 1), (3, 1)]\n",
      "*************************************************\n"
     ]
    }
   ],
   "source": [
    "#Re-load the saved network and run it again for the maximum of 50 epochs, this\n",
    "#time with a test set.  The execution actually terminates ealier because of the\n",
    "#'no improvement over the last two epochs' condition.\n",
    "net2 = network.loadNetwork(\"iris-423.dat\")\n",
    "trainRes, testRes = net2.SGD(irisTrain, 50, 8, 1.0, irisTest)\n",
    "print ('\\n------ Returned Results --------------')\n",
    "print ('** train: {}'.format(trainRes[-1]))\n",
    "print ('** valid: {}'.format(testRes[-1]))\n",
    "#print ('\\n--------------------------------------')\n",
    "#print ('Initial activations length = {} <== MUST be 3'.format(net2.init_acts_len))\n",
    "print ('\\n*************************************************')\n",
    "print ('Initial activations shape: {}'.format(net2.init_acts_shape))\n",
    "print ('*************************************************')"
   ]
  },
  {
   "cell_type": "markdown",
   "id": "96f1fd58-2467-4ce5-ba24-5649cd9ccd85",
   "metadata": {},
   "source": [
    "#### Further check with a 3-layer network (\"iris4-20-7-3.dat\")"
   ]
  },
  {
   "cell_type": "code",
   "execution_count": 5,
   "id": "bea36025-4cc0-4a24-a170-00ec7ef2ced7",
   "metadata": {},
   "outputs": [
    {
     "name": "stdout",
     "output_type": "stream",
     "text": [
      "[Epoch 0] Train: Count=  32, Accuracy=0.3048, MSE=0.3361, CE=1.9221, LL=1.0935\n",
      "[Epoch 0] Valid: Count=  18, Accuracy=0.4000, MSE=0.3301, CE=1.8957, LL=1.0754\n",
      "[Epoch 1] Train: Count=  32, Accuracy=0.3048, MSE=0.3361, CE=1.9224, LL=1.1147\n",
      "[Epoch 1] Valid: Count=  18, Accuracy=0.4000, MSE=0.3298, CE=1.8940, LL=1.0952\n",
      "[Epoch 2] Train: Count=  32, Accuracy=0.3048, MSE=0.3359, CE=1.9215, LL=1.1160\n",
      "[Epoch 2] Valid: Count=  18, Accuracy=0.4000, MSE=0.3295, CE=1.8928, LL=1.0963\n",
      "[Epoch 3] Train: Count=  32, Accuracy=0.3048, MSE=0.3356, CE=1.9201, LL=1.1144\n",
      "[Epoch 3] Valid: Count=  18, Accuracy=0.4000, MSE=0.3292, CE=1.8915, LL=1.0947\n",
      "[Epoch 4] Train: Count=  32, Accuracy=0.3048, MSE=0.3352, CE=1.9183, LL=1.1119\n",
      "[Epoch 4] Valid: Count=  18, Accuracy=0.4000, MSE=0.3288, CE=1.8896, LL=1.0922\n",
      "[Epoch 5] Train: Count=  32, Accuracy=0.3048, MSE=0.3347, CE=1.9159, LL=1.1086\n",
      "[Epoch 5] Valid: Count=  18, Accuracy=0.4000, MSE=0.3282, CE=1.8870, LL=1.0887\n",
      "[Epoch 6] Train: Count=  32, Accuracy=0.3048, MSE=0.3339, CE=1.9124, LL=1.1041\n",
      "[Epoch 6] Valid: Count=  18, Accuracy=0.4000, MSE=0.3273, CE=1.8829, LL=1.0836\n",
      "[Epoch 7] Train: Count=  32, Accuracy=0.3048, MSE=0.3327, CE=1.9071, LL=1.0976\n",
      "[Epoch 7] Valid: Count=  18, Accuracy=0.4000, MSE=0.3258, CE=1.8763, LL=1.0761\n",
      "[Epoch 8] Train: Count=  32, Accuracy=0.3048, MSE=0.3309, CE=1.8989, LL=1.0879\n",
      "[Epoch 8] Valid: Count=  18, Accuracy=0.4000, MSE=0.3235, CE=1.8661, LL=1.0648\n",
      "[Epoch 9] Train: Count=  32, Accuracy=0.3048, MSE=0.3281, CE=1.8863, LL=1.0736\n",
      "[Epoch 9] Valid: Count=  18, Accuracy=0.4000, MSE=0.3200, CE=1.8509, LL=1.0485\n",
      "[Epoch 10] Train: Count=  32, Accuracy=0.3048, MSE=0.3238, CE=1.8669, LL=1.0522\n",
      "[Epoch 10] Valid: Count=  18, Accuracy=0.4000, MSE=0.3149, CE=1.8281, LL=1.0247\n",
      "[Epoch 11] Train: Count=  32, Accuracy=0.3048, MSE=0.3170, CE=1.8362, LL=1.0197\n",
      "[Epoch 11] Valid: Count=  18, Accuracy=0.4000, MSE=0.3071, CE=1.7933, LL=0.9892\n",
      "[Epoch 12] Train: Count=  35, Accuracy=0.3333, MSE=0.3067, CE=1.7889, LL=0.9722\n",
      "[Epoch 12] Valid: Count=  20, Accuracy=0.4444, MSE=0.2957, CE=1.7419, LL=0.9390\n",
      "[Epoch 13] Train: Count=  69, Accuracy=0.6571, MSE=0.2917, CE=1.7205, LL=0.9091\n",
      "[Epoch 13] Valid: Count=  31, Accuracy=0.6889, MSE=0.2804, CE=1.6727, LL=0.8757\n",
      "[Epoch 14] Train: Count=  69, Accuracy=0.6571, MSE=0.2711, CE=1.6279, LL=0.8323\n",
      "[Epoch 14] Valid: Count=  31, Accuracy=0.6889, MSE=0.2610, CE=1.5847, LL=0.8030\n",
      "[Epoch 15] Train: Count=  69, Accuracy=0.6571, MSE=0.2470, CE=1.5189, LL=0.7539\n",
      "[Epoch 15] Valid: Count=  31, Accuracy=0.6889, MSE=0.2393, CE=1.4853, LL=0.7321\n",
      "[Epoch 16] Train: Count=  69, Accuracy=0.6571, MSE=0.2252, CE=1.4157, LL=0.6898\n",
      "[Epoch 16] Valid: Count=  31, Accuracy=0.6889, MSE=0.2202, CE=1.3932, LL=0.6756\n",
      "[Epoch 17] Train: Count=  69, Accuracy=0.6571, MSE=0.2090, CE=1.3324, LL=0.6433\n",
      "[Epoch 17] Valid: Count=  31, Accuracy=0.6889, MSE=0.2061, CE=1.3191, LL=0.6348\n",
      "[Epoch 18] Train: Count=  69, Accuracy=0.6571, MSE=0.1977, CE=1.2690, LL=0.6107\n",
      "[Epoch 18] Valid: Count=  31, Accuracy=0.6889, MSE=0.1962, CE=1.2624, LL=0.6055\n",
      "[Epoch 19] Train: Count=  69, Accuracy=0.6571, MSE=0.1898, CE=1.2209, LL=0.5873\n",
      "[Epoch 19] Valid: Count=  31, Accuracy=0.6889, MSE=0.1891, CE=1.2186, LL=0.5841\n",
      "[Epoch 20] Train: Count=  69, Accuracy=0.6571, MSE=0.1842, CE=1.1838, LL=0.5698\n",
      "[Epoch 20] Valid: Count=  31, Accuracy=0.6889, MSE=0.1838, CE=1.1839, LL=0.5673\n",
      "[Epoch 21] Train: Count=  69, Accuracy=0.6571, MSE=0.1800, CE=1.1547, LL=0.5553\n",
      "[Epoch 21] Valid: Count=  31, Accuracy=0.6889, MSE=0.1797, CE=1.1557, LL=0.5527\n",
      "[Epoch 22] Train: Count=  69, Accuracy=0.6571, MSE=0.1769, CE=1.1316, LL=0.5419\n",
      "[Epoch 22] Valid: Count=  31, Accuracy=0.6889, MSE=0.1764, CE=1.1322, LL=0.5384\n",
      "[Epoch 23] Train: Count=  70, Accuracy=0.6667, MSE=0.1748, CE=1.1135, LL=0.5282\n",
      "[Epoch 23] Valid: Count=  31, Accuracy=0.6889, MSE=0.1739, CE=1.1126, LL=0.5232\n",
      "[Epoch 24] Train: Count=  70, Accuracy=0.6667, MSE=0.1738, CE=1.1002, LL=0.5140\n",
      "[Epoch 24] Valid: Count=  31, Accuracy=0.6889, MSE=0.1722, CE=1.0968, LL=0.5071\n",
      "[Epoch 25] Train: Count=  70, Accuracy=0.6667, MSE=0.1737, CE=1.0916, LL=0.4995\n",
      "[Epoch 25] Valid: Count=  31, Accuracy=0.6889, MSE=0.1714, CE=1.0851, LL=0.4903\n",
      "[Epoch 26] Train: Count=  70, Accuracy=0.6667, MSE=0.1747, CE=1.0880, LL=0.4852\n",
      "[Epoch 26] Valid: Count=  31, Accuracy=0.6889, MSE=0.1715, CE=1.0777, LL=0.4737\n",
      "[Epoch 27] Train: Count=  70, Accuracy=0.6667, MSE=0.1767, CE=1.0893, LL=0.4720\n",
      "[Epoch 27] Valid: Count=  31, Accuracy=0.6889, MSE=0.1726, CE=1.0748, LL=0.4581\n",
      "\n",
      "------ Returned Results --------------\n",
      "** train: {'Count': 70, 'Accuracy': 0.6666666666666666, 'MSE': 0.17666749112854852, 'CE': 1.0893167639294268, 'LL': 0.47199455247526745}\n",
      "** valid: {'Count': 31, 'Accuracy': 0.6888888888888889, 'MSE': 0.1726286228325002, 'CE': 1.0748310739234124, 'LL': 0.4580659245853482}\n",
      "\n",
      "*************************************************\n",
      "Initial activations shape: [(4, 1), (20, 1), (7, 1), (3, 1)]\n",
      "*************************************************\n"
     ]
    }
   ],
   "source": [
    "#Load a deeper network (from a saved file).  Again, the execution actually\n",
    "#terminates ealier than 50 pochs because of the 'no improvement over the last\n",
    "#five epochs' condition.\n",
    "net3 = network.loadNetwork(\"iris4-20-7-3.dat\")\n",
    "trainRes, testRes = net3.SGD(irisTrain, 50, 8, 1.0, irisTest)\n",
    "print ('\\n------ Returned Results --------------')\n",
    "print ('** train: {}'.format(trainRes[-1]))\n",
    "print ('** valid: {}'.format(testRes[-1]))\n",
    "print ('\\n*************************************************')\n",
    "print ('Initial activations shape: {}'.format(net3.init_acts_shape))\n",
    "print ('*************************************************')"
   ]
  }
 ],
 "metadata": {
  "kernelspec": {
   "display_name": "Python 3 (ipykernel)",
   "language": "python",
   "name": "python3"
  },
  "language_info": {
   "codemirror_mode": {
    "name": "ipython",
    "version": 3
   },
   "file_extension": ".py",
   "mimetype": "text/x-python",
   "name": "python",
   "nbconvert_exporter": "python",
   "pygments_lexer": "ipython3",
   "version": "3.9.13"
  }
 },
 "nbformat": 4,
 "nbformat_minor": 5
}
